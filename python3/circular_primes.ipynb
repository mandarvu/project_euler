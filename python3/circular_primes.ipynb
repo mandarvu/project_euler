{
 "cells": [
  {
   "cell_type": "markdown",
   "metadata": {},
   "source": [
    "# 35: Circular Primes"
   ]
  },
  {
   "cell_type": "markdown",
   "metadata": {},
   "source": [
    "### https://projecteuler.net/problem=35"
   ]
  },
  {
   "cell_type": "markdown",
   "metadata": {},
   "source": [
    "## Prime Checker"
   ]
  },
  {
   "cell_type": "code",
   "execution_count": null,
   "metadata": {},
   "outputs": [],
   "source": [
    "from math import sqrt as sq"
   ]
  },
  {
   "cell_type": "code",
   "execution_count": null,
   "metadata": {},
   "outputs": [],
   "source": [
    "def prime(n):\n",
    "    if (n % 2 == 0) or (n == 2):\n",
    "        return False\n",
    "    \n",
    "    for i in range(3,int(sq(n)) + 1, 2):\n",
    "        if (n % i == 0):\n",
    "            return False\n",
    "    \n",
    "    return True"
   ]
  },
  {
   "cell_type": "markdown",
   "metadata": {},
   "source": [
    "## Main"
   ]
  },
  {
   "cell_type": "code",
   "execution_count": null,
   "metadata": {},
   "outputs": [],
   "source": [
    "encountered_primes = [2, 5]\n",
    "#flag = False\n",
    "#units = ['2','4','6','8','0','5']"
   ]
  },
  {
   "cell_type": "code",
   "execution_count": null,
   "metadata": {},
   "outputs": [],
   "source": [
    "for i in range(3, 1_000_000, 2):\n",
    "    if prime(i) and i not in encountered_primes:\n",
    "        string = str(i)\n",
    "        if ('2' in string) or ('4' in string) or ('5' in string) or ('6' in string) or ('8' in string) or ('0' in string):\n",
    "            continue\n",
    "        else:\n",
    "            count = 1\n",
    "            temp = []\n",
    "            while (count <= len(string)):\n",
    "                string = string[-1] + string[:-1]\n",
    "                temp.append(int(string))\n",
    "                count += 1\n",
    "            temp1 = [x for x in temp if prime(int(x))]\n",
    "            if (len(temp) == len(temp1)):\n",
    "                encountered_primes += temp"
   ]
  },
  {
   "cell_type": "code",
   "execution_count": null,
   "metadata": {},
   "outputs": [],
   "source": [
    "answer = set(encountered_primes) #set() is used because one number is repeated, 11.\n",
    "len(answer)"
   ]
  }
 ],
 "metadata": {
  "kernelspec": {
   "display_name": "Python 3",
   "language": "python",
   "name": "python3"
  },
  "language_info": {
   "codemirror_mode": {
    "name": "ipython",
    "version": 3
   },
   "file_extension": ".py",
   "mimetype": "text/x-python",
   "name": "python",
   "nbconvert_exporter": "python",
   "pygments_lexer": "ipython3",
   "version": "3.8.3"
  }
 },
 "nbformat": 4,
 "nbformat_minor": 4
}
