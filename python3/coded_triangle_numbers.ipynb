{
 "cells": [
  {
   "cell_type": "markdown",
   "metadata": {},
   "source": [
    "# 42: Coded Triangle Numbers"
   ]
  },
  {
   "cell_type": "markdown",
   "metadata": {},
   "source": [
    "https://projecteuler.net/problem=42"
   ]
  },
  {
   "cell_type": "markdown",
   "metadata": {},
   "source": [
    "## Generating alphabet score dictionary"
   ]
  },
  {
   "cell_type": "code",
   "execution_count": 1,
   "metadata": {},
   "outputs": [],
   "source": [
    "X = \"ABCDEFGHIJKLMNOPQRSTUVWXYZ\"\n",
    "alphabet_values = {}\n",
    "cnt = 1\n",
    "\n",
    "for alpha in X:\n",
    "    alphabet_values.update({str(alpha):cnt})\n",
    "    cnt += 1"
   ]
  },
  {
   "cell_type": "markdown",
   "metadata": {},
   "source": [
    "## Making Triangular number set"
   ]
  },
  {
   "cell_type": "code",
   "execution_count": 2,
   "metadata": {},
   "outputs": [],
   "source": [
    "# By a hunch, I have assumed that most common words in English language \n",
    "# aren't longer than 20 letters so maximum score a common word can get is 20*26 = 520\n",
    "# and it is clear that 33rd triangular number is the first one greater than 520\n",
    "# So I am going to create a set of first 32 triangle numbers right away.\n",
    "\n",
    "list_of_tri_nums = set()\n",
    "for i in range(1, 33):\n",
    "    list_of_tri_nums.add((i*(i+1))/2)"
   ]
  },
  {
   "cell_type": "markdown",
   "metadata": {},
   "source": [
    "## Importing the dataset"
   ]
  },
  {
   "cell_type": "code",
   "execution_count": 3,
   "metadata": {},
   "outputs": [],
   "source": [
    "import numpy as np"
   ]
  },
  {
   "cell_type": "code",
   "execution_count": 4,
   "metadata": {},
   "outputs": [],
   "source": [
    "data = np.loadtxt('datasets/p042_words.txt', dtype=str, delimiter=',')"
   ]
  },
  {
   "cell_type": "markdown",
   "metadata": {},
   "source": [
    "## Fuction to obtain word score"
   ]
  },
  {
   "cell_type": "code",
   "execution_count": 5,
   "metadata": {},
   "outputs": [],
   "source": [
    "def name_worth(name):\n",
    "    \"\"\"\n",
    "    A function to return score of the input name\n",
    "\n",
    "    Parameters\n",
    "    ----------\n",
    "    name : STR\n",
    "        A Name is given as string\n",
    "\n",
    "    Returns\n",
    "    -------\n",
    "        Sum of the numbers associated with each digit in the name\n",
    "        eg, A = 1, M = 13.\n",
    "    \n",
    "    Example\n",
    "    -------\n",
    "    >>> name_score(\"COLIN\")\n",
    "    >>> 53\n",
    "    \"\"\"\n",
    "    if name.upper() != name:\n",
    "        name = name.upper()\n",
    "    \n",
    "    score = 0\n",
    "    \n",
    "    for letter in name:\n",
    "        score += alphabet_values[str(letter)]\n",
    "        \n",
    "    return score"
   ]
  },
  {
   "cell_type": "markdown",
   "metadata": {},
   "source": [
    "## Main"
   ]
  },
  {
   "cell_type": "code",
   "execution_count": 6,
   "metadata": {},
   "outputs": [],
   "source": [
    "count = 0\n",
    "for name in data:\n",
    "    if name_worth(name.strip('\"')) in list_of_tri_nums:\n",
    "        count += 1"
   ]
  },
  {
   "cell_type": "code",
   "execution_count": 7,
   "metadata": {},
   "outputs": [
    {
     "name": "stdout",
     "output_type": "stream",
     "text": [
      "162\n"
     ]
    }
   ],
   "source": [
    "print(count)"
   ]
  }
 ],
 "metadata": {
  "kernelspec": {
   "display_name": "Python 3",
   "language": "python",
   "name": "python3"
  },
  "language_info": {
   "codemirror_mode": {
    "name": "ipython",
    "version": 3
   },
   "file_extension": ".py",
   "mimetype": "text/x-python",
   "name": "python",
   "nbconvert_exporter": "python",
   "pygments_lexer": "ipython3",
   "version": "3.8.3"
  }
 },
 "nbformat": 4,
 "nbformat_minor": 4
}
